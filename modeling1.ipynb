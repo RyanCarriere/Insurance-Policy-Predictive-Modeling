{
 "cells": [
  {
   "cell_type": "code",
   "execution_count": 1,
   "metadata": {},
   "outputs": [],
   "source": [
    "# Import libraries\n",
    "import pandas as pd\n",
    "import pandas_profiling as pp\n",
    "import matplotlib.pyplot as plt\n",
    "import numpy as np\n",
    "import sys\n",
    "import matplotlib\n",
    "import math\n",
    "from sklearn import linear_model\n",
    "from sklearn.model_selection import train_test_split\n",
    "from sklearn.preprocessing import StandardScaler\n",
    "from sklearn.preprocessing import PolynomialFeatures\n",
    "from sklearn.metrics import mean_squared_error \n",
    "from sklearn.linear_model import RidgeCV, Ridge, LassoCV, Lasso\n",
    "%matplotlib inline"
   ]
  },
  {
   "cell_type": "code",
   "execution_count": 2,
   "metadata": {},
   "outputs": [
    {
     "name": "stdout",
     "output_type": "stream",
     "text": [
      "      VATD_NA  VATD_PASSIVE  VATD_ALARM   DMA_mean    DMA_std  VAY_mean  \\\n",
      "ID                                                                        \n",
      "1    0.583000      0.321000    0.071000  46.163000  15.379823  6.925000   \n",
      "2    0.610611      0.292292    0.079079  45.875876  15.812168  7.078078   \n",
      "3    0.591592      0.316316    0.071071  46.519520  16.307214  7.133133   \n",
      "4    0.591000      0.310000    0.082000  46.000000  15.641248  7.095000   \n",
      "5    0.614228      0.299599    0.065130  46.131263  15.846993  7.065130   \n",
      "..        ...           ...         ...        ...        ...       ...   \n",
      "496  0.573721      0.317954    0.091274  45.816449  16.428114  6.881645   \n",
      "497  0.599000      0.300000    0.079000  46.667000  15.441974  6.921000   \n",
      "498  0.576000      0.324000    0.071000  46.144000  16.020609  6.920000   \n",
      "499  0.589178      0.312625    0.068136  46.801603  15.845883  7.101202   \n",
      "500  0.570571      0.343343    0.066066  46.125125  16.011186  6.978979   \n",
      "\n",
      "      VAY_std     AP_mean      AP_std     ln_LR  \n",
      "ID                                               \n",
      "1    2.627219  335.174720  191.695616 -1.475066  \n",
      "2    2.541422  334.791311  200.948218 -0.486423  \n",
      "3    2.502362  331.441041  225.410729 -2.184457  \n",
      "4    2.491221  335.563350  200.881486 -1.088218  \n",
      "5    2.605982  334.001513  219.070952 -1.301309  \n",
      "..        ...         ...         ...       ...  \n",
      "496  2.624038  348.490702  210.729565 -0.158916  \n",
      "497  2.609899  344.753460  206.293118 -0.315946  \n",
      "498  2.666967  338.915100  206.702881 -0.118286  \n",
      "499  2.544445  335.518206  219.532722  0.533607  \n",
      "500  2.565096  344.678188  228.825738 -0.208407  \n",
      "\n",
      "[500 rows x 10 columns]\n"
     ]
    }
   ],
   "source": [
    "df = pd.read_csv(r'C:\\Users\\grays\\Desktop\\summary_portfolio.csv', index_col = 'ID')\n",
    "print(df)\n",
    "\n",
    "#Create numpy arrays with  the features and the target.\n",
    "X_train = df[['VATD_NA', 'VATD_PASSIVE','VATD_ALARM','DMA_mean','DMA_std','VAY_mean','VAY_std','AP_mean','AP_std']].to_numpy()\n",
    "y_train = df['ln_LR'].to_numpy()"
   ]
  },
  {
   "cell_type": "code",
   "execution_count": 3,
   "metadata": {},
   "outputs": [
    {
     "name": "stdout",
     "output_type": "stream",
     "text": [
      "X_train =  [[5.83000000e-01 3.21000000e-01 7.10000000e-02 ... 2.62721854e+00\n",
      "  3.35174720e+02 1.91695616e+02]\n",
      " [6.10610611e-01 2.92292292e-01 7.90790791e-02 ... 2.54142235e+00\n",
      "  3.34791311e+02 2.00948218e+02]\n",
      " [5.91591592e-01 3.16316316e-01 7.10710711e-02 ... 2.50236227e+00\n",
      "  3.31441041e+02 2.25410729e+02]\n",
      " ...\n",
      " [5.76000000e-01 3.24000000e-01 7.10000000e-02 ... 2.66696695e+00\n",
      "  3.38915100e+02 2.06702881e+02]\n",
      " [5.89178357e-01 3.12625251e-01 6.81362725e-02 ... 2.54444516e+00\n",
      "  3.35518206e+02 2.19532722e+02]\n",
      " [5.70570571e-01 3.43343343e-01 6.60660661e-02 ... 2.56509610e+00\n",
      "  3.44678188e+02 2.28825738e+02]]\n",
      "mean(X_train) =  [5.84589960e-01 3.15274188e-01 7.54654716e-02 4.62132665e+01\n",
      " 1.59554738e+01 7.02638288e+00 2.58356890e+00 3.36290613e+02\n",
      " 2.06884042e+02]\n",
      "std(X_train) =  [1.58864903e-02 1.40942274e-02 8.66884737e-03 5.04194157e-01\n",
      " 3.19051019e-01 8.45302694e-02 5.27599241e-02 6.76279120e+00\n",
      " 1.10409155e+01]\n"
     ]
    }
   ],
   "source": [
    "#Print the means and stds of the input features.\n",
    "print('X_train = ', X_train)\n",
    "print('mean(X_train) = ', X_train.mean(axis=0))\n",
    "print('std(X_train) = ', X_train.std(axis=0))"
   ]
  },
  {
   "cell_type": "code",
   "execution_count": 4,
   "metadata": {},
   "outputs": [
    {
     "name": "stdout",
     "output_type": "stream",
     "text": [
      "X_train_scaled = \n",
      " [[-0.10008252  0.40625227 -0.51511711 ...  0.82732581 -0.16500482\n",
      "  -1.37564918]\n",
      " [ 1.63791059 -1.63058925  0.41684982 ... -0.79883637 -0.22169867\n",
      "  -0.53762065]\n",
      " [ 0.44072866  0.07394008 -0.50691867 ... -1.53917256 -0.71709623\n",
      "   1.67800276]\n",
      " ...\n",
      " [-0.54070847  0.61910537 -0.51511711 ...  1.58070836  0.38807746\n",
      "  -0.01640816]\n",
      " [ 0.28882382 -0.18794486 -0.84546408 ... -0.74154275 -0.11421419\n",
      "   1.14561876]\n",
      " [-0.88247241  1.99153557 -1.08427397 ... -0.35012936  1.24025344\n",
      "   1.98730764]]\n",
      "mean(X_train_scaled) =  [-1.97530881e-15  2.06057393e-15 -6.75015599e-16 -5.82645043e-16\n",
      " -9.02389274e-16 -5.68434189e-15  3.23296945e-15 -1.64845915e-15\n",
      "  1.71951342e-15]\n",
      "std(X_train_scaled) =  [1. 1. 1. 1. 1. 1. 1. 1. 1.]\n"
     ]
    }
   ],
   "source": [
    "#Scale the input features such that the all have zero mean and unit standard deviation.\n",
    "scaler = StandardScaler()\n",
    "scaler.fit(X_train)\n",
    "X_train_scaled = scaler.transform(X_train)\n",
    "\n",
    "print('X_train_scaled = \\n', X_train_scaled)\n",
    "print('mean(X_train_scaled) = ', X_train_scaled.mean(axis=0))\n",
    "print('std(X_train_scaled) = ', X_train_scaled.std(axis=0))"
   ]
  },
  {
   "cell_type": "code",
   "execution_count": 5,
   "metadata": {},
   "outputs": [
    {
     "name": "stdout",
     "output_type": "stream",
     "text": [
      "dim(X_train) =  (300, 9)\n",
      "dim(X_test) =  (200, 9)\n"
     ]
    }
   ],
   "source": [
    "#Split the data into training and testing. Do not shuffle it!\n",
    "#Use the first 300 rows for training and the last 200 for testing.\n",
    "X_test, X_train, y_test, y_train = train_test_split(X_train, y_train, test_size=0.60)\n",
    "print('dim(X_train) = ', X_train.shape)\n",
    "print('dim(X_test) = ', X_test.shape)"
   ]
  },
  {
   "cell_type": "code",
   "execution_count": 6,
   "metadata": {},
   "outputs": [
    {
     "name": "stdout",
     "output_type": "stream",
     "text": [
      "Intercept = 12.450664920418433\n",
      "Coefficents = [-1.95752667 -4.23831712 -0.69697596 -0.13098005  0.07689151 -0.85011469\n",
      " -2.67311759  0.02621438 -0.00701815]\n"
     ]
    }
   ],
   "source": [
    "#Using the training dataset build a LinearRegression. \n",
    "#What is the intercept and the coefficients associated with the input attributes?\n",
    "model1 = linear_model.LinearRegression(fit_intercept=True)\n",
    "model1.fit(X_train,y_train)\n",
    "print('Intercept =' , model1.intercept_)\n",
    "print('Coefficents =',model1.coef_)"
   ]
  },
  {
   "cell_type": "code",
   "execution_count": 7,
   "metadata": {},
   "outputs": [
    {
     "name": "stdout",
     "output_type": "stream",
     "text": [
      "alpha = 0.1\n",
      "coef = [ 0.12869337 -0.71911467  0.38336613 -0.13570652  0.06672259 -0.26807035\n",
      " -1.8998648   0.02858811 -0.00748371]\n"
     ]
    }
   ],
   "source": [
    "l2_cv = RidgeCV(alphas = [0.001,.01, 0.1], cv=None, store_cv_values=True)\n",
    "l2_cv.fit(X_train,y_train)\n",
    "print('alpha =', l2_cv.alpha_)\n",
    "print('coef =', l2_cv.coef_)"
   ]
  },
  {
   "cell_type": "code",
   "execution_count": 8,
   "metadata": {},
   "outputs": [
    {
     "name": "stdout",
     "output_type": "stream",
     "text": [
      "dim(cv_values)= (300, 3)\n",
      "cv_values(all) =\n",
      " [[6.42028732e-01 6.49595529e-01 6.26688851e-01]\n",
      " [1.67977465e-03 1.61751566e-03 2.00986446e-03]\n",
      " [7.21736991e-01 7.34338259e-01 7.53236571e-01]\n",
      " [7.31805410e-01 7.35680687e-01 7.33034624e-01]\n",
      " [1.94781345e-01 1.91062135e-01 1.95583689e-01]\n",
      " [4.39387552e-01 4.34188335e-01 3.78632132e-01]\n",
      " [1.28841730e+00 1.29136768e+00 1.27510237e+00]\n",
      " [1.44609159e-01 1.44542357e-01 1.35731837e-01]\n",
      " [6.98719044e-02 5.57701133e-02 2.80797276e-02]\n",
      " [1.20838439e+00 1.19631127e+00 1.18186635e+00]\n",
      " [4.65585825e-01 4.68779016e-01 4.62898075e-01]\n",
      " [1.37084653e-01 1.52206922e-01 2.08894244e-01]\n",
      " [2.07206617e-03 1.85468469e-03 1.82055390e-05]\n",
      " [3.09983102e-02 3.26270010e-02 2.97702262e-02]\n",
      " [6.40771320e-01 6.34874563e-01 6.16334054e-01]\n",
      " [1.28387941e-01 1.28321398e-01 1.26589547e-01]\n",
      " [2.24800907e+00 2.26192149e+00 2.32627350e+00]\n",
      " [2.27554036e-01 2.01476726e-01 1.41721539e-01]\n",
      " [2.05204406e-02 2.06722042e-02 2.64041271e-02]\n",
      " [5.31892982e-01 5.52943245e-01 6.62854871e-01]\n",
      " [1.49831284e+00 1.46314652e+00 1.34458846e+00]\n",
      " [5.25779824e-02 5.23441079e-02 5.53420703e-02]\n",
      " [1.34427534e-01 1.33218818e-01 1.15106922e-01]\n",
      " [1.49010977e-05 7.38845294e-07 2.21882108e-03]\n",
      " [1.47495906e-01 1.54197192e-01 1.58848981e-01]\n",
      " [1.26691676e+00 1.28789799e+00 1.36148076e+00]\n",
      " [1.50616639e-01 1.45025841e-01 1.12017184e-01]\n",
      " [4.19856014e-01 4.27789561e-01 4.57749766e-01]\n",
      " [4.08377995e-01 4.03019435e-01 4.08925698e-01]\n",
      " [9.34146624e-01 9.42939409e-01 8.98315492e-01]\n",
      " [6.53342039e-02 6.15994012e-02 5.56324357e-02]\n",
      " [6.83516648e-01 6.71184087e-01 6.95916222e-01]\n",
      " [3.90330234e-01 3.71379280e-01 3.64504645e-01]\n",
      " [3.22851907e-04 2.53368976e-04 3.69754500e-04]\n",
      " [9.77259721e-01 9.69379956e-01 9.71247562e-01]\n",
      " [2.63372600e-01 2.57280779e-01 2.25823472e-01]\n",
      " [3.80813791e-02 3.56265112e-02 4.62877054e-02]\n",
      " [2.77106782e-01 2.93498515e-01 3.41391755e-01]\n",
      " [1.62590355e-01 1.70092666e-01 2.01820818e-01]\n",
      " [5.63875731e-01 5.28944429e-01 4.92899790e-01]\n",
      " [1.19517730e-01 1.18803081e-01 1.03714369e-01]\n",
      " [2.76905829e-02 2.76514427e-02 2.96391344e-02]\n",
      " [1.04276444e-01 1.07837842e-01 1.04671046e-01]\n",
      " [1.54721494e-03 2.22518815e-03 2.45884090e-03]\n",
      " [2.42922743e-03 2.89191611e-03 4.56681868e-03]\n",
      " [1.77705257e+00 1.77081976e+00 1.73473605e+00]\n",
      " [2.79706832e+00 2.79960709e+00 2.72631384e+00]\n",
      " [2.95796252e-02 2.55894868e-02 1.66853650e-02]\n",
      " [5.16515978e-01 5.26107073e-01 5.39076798e-01]\n",
      " [4.39408363e-02 4.32919309e-02 3.33265155e-02]\n",
      " [5.33508254e-01 5.22177387e-01 4.68412550e-01]\n",
      " [1.43507031e+00 1.43970186e+00 1.41591495e+00]\n",
      " [1.31454983e+00 1.33116251e+00 1.39345544e+00]\n",
      " [9.94646533e-01 9.69481405e-01 9.54288611e-01]\n",
      " [4.24605320e-01 4.20994529e-01 4.39453608e-01]\n",
      " [1.26277458e-01 1.29806548e-01 1.54675440e-01]\n",
      " [1.27579534e-03 1.28340594e-03 4.90513422e-03]\n",
      " [1.24129817e-03 1.75298205e-03 2.04843462e-03]\n",
      " [5.12228359e-02 5.15055807e-02 5.22078408e-02]\n",
      " [8.39076910e-01 8.05863714e-01 7.00347954e-01]\n",
      " [1.28834816e-01 1.21776035e-01 1.11007040e-01]\n",
      " [4.76324525e-01 4.68576466e-01 4.95230531e-01]\n",
      " [1.66752316e+00 1.63868482e+00 1.63566717e+00]\n",
      " [3.85445783e-01 3.98569056e-01 4.31980522e-01]\n",
      " [6.08528038e-01 5.99838991e-01 5.76648135e-01]\n",
      " [2.77466938e-01 2.74575528e-01 2.89075388e-01]\n",
      " [4.61005201e-03 3.68333274e-03 3.24717040e-03]\n",
      " [9.31172807e-02 9.19005178e-02 8.43260949e-02]\n",
      " [8.76022756e-03 9.53229624e-03 1.77508620e-02]\n",
      " [5.13548359e-02 5.24107143e-02 4.76498427e-02]\n",
      " [5.24865528e-01 5.23895393e-01 5.69999238e-01]\n",
      " [5.90342219e-02 5.81530433e-02 4.79555063e-02]\n",
      " [4.99669900e-02 5.55588770e-02 7.44811206e-02]\n",
      " [9.60193304e-01 9.66422392e-01 9.94573352e-01]\n",
      " [1.70798984e-01 1.69779475e-01 1.54702947e-01]\n",
      " [2.37904133e+00 2.36600324e+00 2.37411019e+00]\n",
      " [7.01173124e-02 6.49313347e-02 4.79317722e-02]\n",
      " [4.76769277e-02 4.76833621e-02 4.42369094e-02]\n",
      " [2.21235874e-01 2.23204110e-01 2.34429080e-01]\n",
      " [1.62179337e-01 1.74962852e-01 2.23090111e-01]\n",
      " [4.31539359e-02 4.13568795e-02 3.80980439e-02]\n",
      " [2.79047221e-01 2.79088298e-01 2.75956029e-01]\n",
      " [1.79965759e-01 1.77425685e-01 1.89580605e-01]\n",
      " [3.51087224e-01 3.55047182e-01 3.53945658e-01]\n",
      " [3.79011131e-02 3.93832494e-02 5.45986987e-02]\n",
      " [1.41296570e+00 1.39094919e+00 1.34739568e+00]\n",
      " [1.89818459e+00 1.92229954e+00 2.03529015e+00]\n",
      " [7.85135200e-01 7.81578123e-01 8.25750123e-01]\n",
      " [6.07337807e-01 6.12649168e-01 6.36146695e-01]\n",
      " [7.67692621e-02 8.50734796e-02 1.26725577e-01]\n",
      " [6.90279382e-01 6.54115228e-01 6.60981241e-01]\n",
      " [5.76891936e-03 5.00572905e-03 1.31754321e-03]\n",
      " [6.93089435e-04 1.38578338e-03 5.30886073e-03]\n",
      " [1.01887181e+00 9.85417150e-01 8.87920146e-01]\n",
      " [5.46191708e-01 5.20625542e-01 4.65817941e-01]\n",
      " [5.92885225e-01 5.85740526e-01 5.36990647e-01]\n",
      " [8.46370146e-02 7.75523294e-02 8.94693180e-02]\n",
      " [3.34481149e-01 3.55254663e-01 4.06890512e-01]\n",
      " [4.77753616e-04 4.24602383e-04 5.46749708e-04]\n",
      " [1.49683911e+00 1.47109421e+00 1.37914662e+00]]\n",
      "cv_values(alpha = 0.001) =\n",
      " [6.42028732e-01 1.67977465e-03 7.21736991e-01 7.31805410e-01\n",
      " 1.94781345e-01 4.39387552e-01 1.28841730e+00 1.44609159e-01\n",
      " 6.98719044e-02 1.20838439e+00 4.65585825e-01 1.37084653e-01\n",
      " 2.07206617e-03 3.09983102e-02 6.40771320e-01 1.28387941e-01\n",
      " 2.24800907e+00 2.27554036e-01 2.05204406e-02 5.31892982e-01\n",
      " 1.49831284e+00 5.25779824e-02 1.34427534e-01 1.49010977e-05\n",
      " 1.47495906e-01 1.26691676e+00 1.50616639e-01 4.19856014e-01\n",
      " 4.08377995e-01 9.34146624e-01 6.53342039e-02 6.83516648e-01\n",
      " 3.90330234e-01 3.22851907e-04 9.77259721e-01 2.63372600e-01\n",
      " 3.80813791e-02 2.77106782e-01 1.62590355e-01 5.63875731e-01\n",
      " 1.19517730e-01 2.76905829e-02 1.04276444e-01 1.54721494e-03\n",
      " 2.42922743e-03 1.77705257e+00 2.79706832e+00 2.95796252e-02\n",
      " 5.16515978e-01 4.39408363e-02 5.33508254e-01 1.43507031e+00\n",
      " 1.31454983e+00 9.94646533e-01 4.24605320e-01 1.26277458e-01\n",
      " 1.27579534e-03 1.24129817e-03 5.12228359e-02 8.39076910e-01\n",
      " 1.28834816e-01 4.76324525e-01 1.66752316e+00 3.85445783e-01\n",
      " 6.08528038e-01 2.77466938e-01 4.61005201e-03 9.31172807e-02\n",
      " 8.76022756e-03 5.13548359e-02 5.24865528e-01 5.90342219e-02\n",
      " 4.99669900e-02 9.60193304e-01 1.70798984e-01 2.37904133e+00\n",
      " 7.01173124e-02 4.76769277e-02 2.21235874e-01 1.62179337e-01\n",
      " 4.31539359e-02 2.79047221e-01 1.79965759e-01 3.51087224e-01\n",
      " 3.79011131e-02 1.41296570e+00 1.89818459e+00 7.85135200e-01\n",
      " 6.07337807e-01 7.67692621e-02 6.90279382e-01 5.76891936e-03\n",
      " 6.93089435e-04 1.01887181e+00 5.46191708e-01 5.92885225e-01\n",
      " 8.46370146e-02 3.34481149e-01 4.77753616e-04 1.49683911e+00]\n",
      "cv_values(alpha = 0.01) =\n",
      " [6.49595529e-01 1.61751566e-03 7.34338259e-01 7.35680687e-01\n",
      " 1.91062135e-01 4.34188335e-01 1.29136768e+00 1.44542357e-01\n",
      " 5.57701133e-02 1.19631127e+00 4.68779016e-01 1.52206922e-01\n",
      " 1.85468469e-03 3.26270010e-02 6.34874563e-01 1.28321398e-01\n",
      " 2.26192149e+00 2.01476726e-01 2.06722042e-02 5.52943245e-01\n",
      " 1.46314652e+00 5.23441079e-02 1.33218818e-01 7.38845294e-07\n",
      " 1.54197192e-01 1.28789799e+00 1.45025841e-01 4.27789561e-01\n",
      " 4.03019435e-01 9.42939409e-01 6.15994012e-02 6.71184087e-01\n",
      " 3.71379280e-01 2.53368976e-04 9.69379956e-01 2.57280779e-01\n",
      " 3.56265112e-02 2.93498515e-01 1.70092666e-01 5.28944429e-01\n",
      " 1.18803081e-01 2.76514427e-02 1.07837842e-01 2.22518815e-03\n",
      " 2.89191611e-03 1.77081976e+00 2.79960709e+00 2.55894868e-02\n",
      " 5.26107073e-01 4.32919309e-02 5.22177387e-01 1.43970186e+00\n",
      " 1.33116251e+00 9.69481405e-01 4.20994529e-01 1.29806548e-01\n",
      " 1.28340594e-03 1.75298205e-03 5.15055807e-02 8.05863714e-01\n",
      " 1.21776035e-01 4.68576466e-01 1.63868482e+00 3.98569056e-01\n",
      " 5.99838991e-01 2.74575528e-01 3.68333274e-03 9.19005178e-02\n",
      " 9.53229624e-03 5.24107143e-02 5.23895393e-01 5.81530433e-02\n",
      " 5.55588770e-02 9.66422392e-01 1.69779475e-01 2.36600324e+00\n",
      " 6.49313347e-02 4.76833621e-02 2.23204110e-01 1.74962852e-01\n",
      " 4.13568795e-02 2.79088298e-01 1.77425685e-01 3.55047182e-01\n",
      " 3.93832494e-02 1.39094919e+00 1.92229954e+00 7.81578123e-01\n",
      " 6.12649168e-01 8.50734796e-02 6.54115228e-01 5.00572905e-03\n",
      " 1.38578338e-03 9.85417150e-01 5.20625542e-01 5.85740526e-01\n",
      " 7.75523294e-02 3.55254663e-01 4.24602383e-04 1.47109421e+00]\n",
      "cv_values(alpha = 0.1) =\n",
      " [6.26688851e-01 2.00986446e-03 7.53236571e-01 7.33034624e-01\n",
      " 1.95583689e-01 3.78632132e-01 1.27510237e+00 1.35731837e-01\n",
      " 2.80797276e-02 1.18186635e+00 4.62898075e-01 2.08894244e-01\n",
      " 1.82055390e-05 2.97702262e-02 6.16334054e-01 1.26589547e-01\n",
      " 2.32627350e+00 1.41721539e-01 2.64041271e-02 6.62854871e-01\n",
      " 1.34458846e+00 5.53420703e-02 1.15106922e-01 2.21882108e-03\n",
      " 1.58848981e-01 1.36148076e+00 1.12017184e-01 4.57749766e-01\n",
      " 4.08925698e-01 8.98315492e-01 5.56324357e-02 6.95916222e-01\n",
      " 3.64504645e-01 3.69754500e-04 9.71247562e-01 2.25823472e-01\n",
      " 4.62877054e-02 3.41391755e-01 2.01820818e-01 4.92899790e-01\n",
      " 1.03714369e-01 2.96391344e-02 1.04671046e-01 2.45884090e-03\n",
      " 4.56681868e-03 1.73473605e+00 2.72631384e+00 1.66853650e-02\n",
      " 5.39076798e-01 3.33265155e-02 4.68412550e-01 1.41591495e+00\n",
      " 1.39345544e+00 9.54288611e-01 4.39453608e-01 1.54675440e-01\n",
      " 4.90513422e-03 2.04843462e-03 5.22078408e-02 7.00347954e-01\n",
      " 1.11007040e-01 4.95230531e-01 1.63566717e+00 4.31980522e-01\n",
      " 5.76648135e-01 2.89075388e-01 3.24717040e-03 8.43260949e-02\n",
      " 1.77508620e-02 4.76498427e-02 5.69999238e-01 4.79555063e-02\n",
      " 7.44811206e-02 9.94573352e-01 1.54702947e-01 2.37411019e+00\n",
      " 4.79317722e-02 4.42369094e-02 2.34429080e-01 2.23090111e-01\n",
      " 3.80980439e-02 2.75956029e-01 1.89580605e-01 3.53945658e-01\n",
      " 5.45986987e-02 1.34739568e+00 2.03529015e+00 8.25750123e-01\n",
      " 6.36146695e-01 1.26725577e-01 6.60981241e-01 1.31754321e-03\n",
      " 5.30886073e-03 8.87920146e-01 4.65817941e-01 5.36990647e-01\n",
      " 8.94693180e-02 4.06890512e-01 5.46749708e-04 1.37914662e+00]\n"
     ]
    }
   ],
   "source": [
    "#Using the training dataset build 100 L1-regularized linear models corresponding to 100 regularization coefficients evenly spaced between 0.001 and 0.1.\n",
    "#Use the 10-fold cross validation to find the best regularization coefficient.\n",
    "#What is the intercept and the coefficients associated with the input attributes corresponding to the best regularization coefficient?\n",
    "print('dim(cv_values)=', l2_cv.cv_values_.shape)\n",
    "print('cv_values(all) =\\n', l2_cv.cv_values_[:100,:])\n",
    "print('cv_values(alpha = 0.001) =\\n', l2_cv.cv_values_[:100,0])\n",
    "print('cv_values(alpha = 0.01) =\\n', l2_cv.cv_values_[:100,1])\n",
    "print('cv_values(alpha = 0.1) =\\n', l2_cv.cv_values_[:100,2])"
   ]
  },
  {
   "cell_type": "code",
   "execution_count": 9,
   "metadata": {},
   "outputs": [
    {
     "name": "stdout",
     "output_type": "stream",
     "text": [
      "means =  [0.4602001  0.45770368 0.45461766]\n",
      "SEs =  [0.03469632 0.03457116 0.03425023]\n"
     ]
    }
   ],
   "source": [
    "# Get the mean and standard error of the performance metric - by default is the mean squared errors\n",
    "means_MSE = l2_cv.cv_values_.mean(axis=0)\n",
    "SEs_MSE = l2_cv.cv_values_.std(axis=0)/np.sqrt(l2_cv.cv_values_.shape[0])\n",
    "print('means = ', means_MSE)\n",
    "print('SEs = ', SEs_MSE)"
   ]
  },
  {
   "cell_type": "code",
   "execution_count": 10,
   "metadata": {},
   "outputs": [
    {
     "name": "stdout",
     "output_type": "stream",
     "text": [
      "95% conf. int. avg. pred. MSE (alpha=0.1) = [ 0.3921953188918105 ,  0.5282048767162516 ]\n",
      "testing error obtained in testing dataset =  0.5339582425071275\n"
     ]
    }
   ],
   "source": [
    "#Provide the 95% confidence interval in the above mean (you will need to compute the Standard Error)\n",
    "print('95% conf. int. avg. pred. MSE (alpha=0.1) = [', means_MSE[0]-1.96*SEs_MSE[0],\n",
    "      ', ', means_MSE[0]+1.96*SEs_MSE[0], ']')\n",
    "\n",
    "y_pred_test = l2_cv.predict(X_test)\n",
    "test_RMSE = mean_squared_error(y_test, y_pred_test)\n",
    "print('testing error obtained in testing dataset = ', test_RMSE)"
   ]
  },
  {
   "cell_type": "code",
   "execution_count": 11,
   "metadata": {},
   "outputs": [
    {
     "name": "stdout",
     "output_type": "stream",
     "text": [
      "RMSE train =  0.6573889582153222\n",
      "RMSE test =  0.7315193443028971\n"
     ]
    }
   ],
   "source": [
    "#Linear Regression - training RMSE\n",
    "#Linear Regression - testing RMSE\n",
    "model2 = linear_model.LinearRegression(fit_intercept=True)\n",
    "model2.fit(X_train,y_train)\n",
    "training_prediction = model2.predict(X_train)\n",
    "print('RMSE train = ', math.sqrt(mean_squared_error(training_prediction,y_train)))\n",
    "testing_prediction = model2.predict(X_test)\n",
    "print('RMSE test = ', math.sqrt(mean_squared_error(testing_prediction,y_test)))"
   ]
  },
  {
   "cell_type": "code",
   "execution_count": 12,
   "metadata": {},
   "outputs": [
    {
     "name": "stdout",
     "output_type": "stream",
     "text": [
      "RMSE train =  0.6591931303254477\n",
      "RMSE test =  0.7300134597089345\n"
     ]
    }
   ],
   "source": [
    "#Lasso (best alpha) - training RMSE\n",
    "#Lasso (best alpha) - testing RMSE\n",
    "lasso = LassoCV(alphas = [0.001,.01, 0.1])\n",
    "lasso.fit(X_train,y_train)\n",
    "training_prediction = lasso.predict(X_train)\n",
    "print('RMSE train = ', math.sqrt(mean_squared_error(training_prediction,y_train)))\n",
    "testing_prediction = lasso.predict(X_test)\n",
    "print('RMSE test = ', math.sqrt(mean_squared_error(testing_prediction,y_test)))"
   ]
  },
  {
   "cell_type": "code",
   "execution_count": 13,
   "metadata": {},
   "outputs": [
    {
     "name": "stdout",
     "output_type": "stream",
     "text": [
      "Average RMSE train =  0.6591931303254477\n",
      "Average RMSE test =  0.7300134597089345\n"
     ]
    }
   ],
   "source": [
    "#Lasso (best alpha) - average RMSE obtained by averaging the 10 RMSEs obtained during cross-validation\n",
    "lasso = LassoCV(alphas = [0.001,.01, 0.1], cv = 10)\n",
    "lasso.fit(X_train,y_train)\n",
    "training_prediction = lasso.predict(X_train)\n",
    "print('Average RMSE train = ', (math.sqrt(mean_squared_error(training_prediction,y_train))))\n",
    "testing_prediction = lasso.predict(X_test)\n",
    "print('Average RMSE test = ', math.sqrt(mean_squared_error(testing_prediction,y_test)))"
   ]
  },
  {
   "cell_type": "code",
   "execution_count": null,
   "metadata": {},
   "outputs": [],
   "source": [
    "#Q1. Which model do you prefer between the Linear Regression and Lasso (best alpha) and why?\n",
    "#Upon conducting both tests, I think Lasso(best alpha regression) would be better as with lasso regression\n",
    "#it primarily focuses on penalizing the absolute value of reg coefficients. Moreover, though in some cases lasso madels \n",
    "#may have an underfitting problem with its data points/features, it can help improve lin reg models accuracy. Lasso model \n",
    "#regression utilizes absolte values in each respective penality function. "
   ]
  },
  {
   "cell_type": "code",
   "execution_count": 1,
   "metadata": {},
   "outputs": [],
   "source": [
    "#Q2. What additional information Lasso gives about predicting the target?\n",
    "#Other info that lasso gives with regards to predicting target is that lasso can bring down the coefficient magnitude\n",
    "#to zero even at the lass(best alpha). With this said, its indicative that lasso models are selective in which coefficients \n",
    "#get reduced to 0 which in retrun represents feature selection. Moreover since lasso regression models bud off of \n",
    "#L1 regularization models, in some cases you might have models where some predicator coefficeints share strong correlation,\n",
    "#and with that many predictor coefficients sharing a strong correltion, lasso ensures in selecting one of the predictors \n",
    "#and making all others 0"
   ]
  },
  {
   "cell_type": "code",
   "execution_count": 2,
   "metadata": {},
   "outputs": [],
   "source": [
    "#Q3. What observation can you make by comparing the 95% confidence interval for the mean RMSE and the testing RMSE for Lasso"
   ]
  },
  {
   "cell_type": "code",
   "execution_count": null,
   "metadata": {},
   "outputs": [],
   "source": [
    "#testing RMSE is greater than train RMSE for lasso which represents a good fit in the model. Data is being validated \n",
    "#appropriately and it appears theres no overfitting ."
   ]
  }
 ],
 "metadata": {
  "kernelspec": {
   "display_name": "Python 3",
   "language": "python",
   "name": "python3"
  },
  "language_info": {
   "codemirror_mode": {
    "name": "ipython",
    "version": 3
   },
   "file_extension": ".py",
   "mimetype": "text/x-python",
   "name": "python",
   "nbconvert_exporter": "python",
   "pygments_lexer": "ipython3",
   "version": "3.7.6"
  }
 },
 "nbformat": 4,
 "nbformat_minor": 4
}
